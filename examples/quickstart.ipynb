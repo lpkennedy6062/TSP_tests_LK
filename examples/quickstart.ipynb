{
 "cells": [
  {
   "cell_type": "markdown",
   "metadata": {},
   "source": [
    "# TSP Quickstart\n",
    "\n",
    "In this demo, we generate a random 20-city traveling salesperson problem (TSP), collect a tour from a human subject, and then compare it to the optimal tour. For a more thorough example of running a human subject on a whole set of problems and computing statistics, see the [Setting Up a Simple Experiment](experiment_demo.ipynb) notebook."
   ]
  },
  {
   "cell_type": "code",
   "execution_count": 16,
   "metadata": {},
   "outputs": [],
   "source": [
    "from tsp.core.tsp import TSP\n",
    "from tsp.core.viz import visualize_tsp_plt\n",
    "from tsp.core.save import load_list\n",
    "from tsp.core.solvers import concorde_solve, pyramid_solve\n",
    "from tsp.experiment.batch import save_problem_batch\n",
    "from tsp.experiment.batch_solver import solve_batch\n",
    "from tsp.experiment.batch_server import batch_server_run"
   ]
  },
  {
   "cell_type": "markdown",
   "metadata": {},
   "source": [
    "## Generating and Saving a Problem\n",
    "\n",
    "Generally, the interface for running human subjects on TSPs is designed for use on sets of more than one problem. In this case, we only generate one, and save it in the directory `test`. When saving it, the library automatically labels it with a numerical index. In this case it will be saved in the file `test/001.tsp`."
   ]
  },
  {
   "cell_type": "code",
   "execution_count": 10,
   "metadata": {},
   "outputs": [],
   "source": [
    "problem = TSP.generate_random(20)\n",
    "save_problem_batch([problem], './test')"
   ]
  },
  {
   "cell_type": "code",
   "execution_count": 15,
   "metadata": {},
   "outputs": [
    {
     "data": {
      "text/plain": [
       "[]"
      ]
     },
     "execution_count": 15,
     "metadata": {},
     "output_type": "execute_result"
    }
   ],
   "source": [
    "def pyramid_solve_2_3(problem):\n",
    "    return pyramid_solve(problem, k=2, s=3)\n",
    "solve_batch('test/001.tsp', pyramid_solve_2_3, 'examples/test/normal/pyramid_2_3')"
   ]
  },
  {
   "cell_type": "code",
   "execution_count": null,
   "metadata": {},
   "outputs": [],
   "source": []
  },
  {
   "cell_type": "markdown",
   "metadata": {},
   "source": [
    "## Running a Human Subject\n",
    "\n",
    "The user interface (UI) for running an experimental subject is served in the web browser. After starting the code in this next cell, navigate to [localhost:8080](http://localhost:8080/) in order to access the UI. The web server should automatically shutdown after you have completed and submitted the problem."
   ]
  },
  {
   "cell_type": "code",
   "execution_count": null,
   "metadata": {},
   "outputs": [
    {
     "name": "stdout",
     "output_type": "stream",
     "text": [
      "Serving on http://localhost:8080 ...\n"
     ]
    }
   ],
   "source": [
    "batch_server_run(problems_path='./test', output_dir='./test', randomized=False)"
   ]
  },
  {
   "cell_type": "markdown",
   "metadata": {},
   "source": [
    "## Visualizing Tours\n",
    "\n",
    "Following are visualizations of the human subject and optimal tours, using the MatPlotLib backend to inline it in the notebook. Also available is a Python Imaging Library (PIL) backend for visualization.\n",
    "\n",
    "### Human Tour\n",
    "\n",
    "The UI saved the tour in the same `test` directory as `001.sol`. The following code loads it for visualizing and later to calculate the error relative to the optimal tour."
   ]
  },
  {
   "cell_type": "code",
   "execution_count": null,
   "metadata": {},
   "outputs": [
    {
     "data": {
      "image/png": "[encoded data removed]",
      "text/plain": [
       "<Figure size 640x480 with 1 Axes>"
      ]
     },
     "metadata": {},
     "output_type": "display_data"
    }
   ],
   "source": [
    "human_tour = load_list('./test/001.sol')\n",
    "visualize_tsp_plt(problem, human_tour)"
   ]
  },
  {
   "cell_type": "code",
   "execution_count": null,
   "metadata": {},
   "outputs": [],
   "source": [
    "import os\n",
    "os.environ[\"CONCORDE\"] = \"/Users/liamkennedy/Downloads/concorde\"\n",
    "#put path to executable concorde\n"
   ]
  },
  {
   "cell_type": "markdown",
   "metadata": {},
   "source": [
    "### Optimal Tour\n",
    "\n",
    "The optimal tour is generated using the Concorde backend. It can be used in the same way as the human tour from the UI for visualization and calculation of distance."
   ]
  },
  {
   "cell_type": "code",
   "execution_count": null,
   "metadata": {},
   "outputs": [
    {
     "ename": "FileNotFoundError",
     "evalue": "[Errno 2] No such file or directory: './tsp.sol'",
     "output_type": "error",
     "traceback": [
      "\u001b[31m---------------------------------------------------------------------------\u001b[39m",
      "\u001b[31mFileNotFoundError\u001b[39m                         Traceback (most recent call last)",
      "\u001b[36mCell\u001b[39m\u001b[36m \u001b[39m\u001b[32mIn[7]\u001b[39m\u001b[32m, line 1\u001b[39m\n\u001b[32m----> \u001b[39m\u001b[32m1\u001b[39m optimal_tour = \u001b[43mconcorde_solve\u001b[49m\u001b[43m(\u001b[49m\u001b[43mproblem\u001b[49m\u001b[43m)\u001b[49m\n\u001b[32m      2\u001b[39m visualize_tsp_plt(problem, optimal_tour)\n",
      "\u001b[36mFile \u001b[39m\u001b[32m~/Downloads/Research/TSP-Test/examples/tsp/core/solvers.py:67\u001b[39m, in \u001b[36mconcorde_solve\u001b[39m\u001b[34m(tsp, **kwargs)\u001b[39m\n\u001b[32m     64\u001b[39m     dest.write(dumps_matrix(E))\n\u001b[32m     66\u001b[39m old_dir = os.getcwd()\n\u001b[32m---> \u001b[39m\u001b[32m67\u001b[39m tour = \u001b[43mrun_concorde\u001b[49m\u001b[43m(\u001b[49m\u001b[43moutf\u001b[49m\u001b[43m,\u001b[49m\u001b[43m \u001b[49m\u001b[43mstart\u001b[49m\u001b[43m=\u001b[49m\u001b[32;43m0\u001b[39;49m\u001b[43m,\u001b[49m\u001b[43m \u001b[49m\u001b[43msolver\u001b[49m\u001b[43m=\u001b[49m\u001b[33;43m\"\u001b[39;49m\u001b[33;43mconcorde\u001b[39;49m\u001b[33;43m\"\u001b[39;49m\u001b[43m)\u001b[49m\n\u001b[32m     68\u001b[39m os.unlink(outf)\n\u001b[32m     69\u001b[39m os.chdir(old_dir)\n",
      "\u001b[36mFile \u001b[39m\u001b[32m/Library/Frameworks/Python.framework/Versions/3.13/lib/python3.13/site-packages/pytsp/__init__.py:101\u001b[39m, in \u001b[36mrun\u001b[39m\u001b[34m(tsp_path, start, solver)\u001b[39m\n\u001b[32m     95\u001b[39m         \u001b[38;5;28;01mraise\u001b[39;00m TSPSolverNotFound(\n\u001b[32m     96\u001b[39m             \u001b[33m\"\u001b[39m\u001b[38;5;132;01m{0}\u001b[39;00m\u001b[33m is not found on your path or is not executable\u001b[39m\u001b[33m\"\u001b[39m.format(CONCORDE))\n\u001b[32m     98\u001b[39m solf = os.path.join(\n\u001b[32m     99\u001b[39m     bdir, os.path.splitext(os.path.basename(tsp_path))[\u001b[32m0\u001b[39m] + \u001b[33m\"\u001b[39m\u001b[33m.sol\u001b[39m\u001b[33m\"\u001b[39m)\n\u001b[32m--> \u001b[39m\u001b[32m101\u001b[39m \u001b[38;5;28;01mwith\u001b[39;00m \u001b[38;5;28;43mopen\u001b[39;49m\u001b[43m(\u001b[49m\u001b[43msolf\u001b[49m\u001b[43m)\u001b[49m \u001b[38;5;28;01mas\u001b[39;00m src:\n\u001b[32m    102\u001b[39m     sol = src.read()\n\u001b[32m    104\u001b[39m raw = [\u001b[38;5;28mint\u001b[39m(x) \u001b[38;5;28;01mfor\u001b[39;00m x \u001b[38;5;129;01min\u001b[39;00m sol.split()[\u001b[32m1\u001b[39m:]]  \u001b[38;5;66;03m# first is just n cities\u001b[39;00m\n",
      "\u001b[31mFileNotFoundError\u001b[39m: [Errno 2] No such file or directory: './tsp.sol'"
     ]
    }
   ],
   "source": [
    "optimal_tour = concorde_solve(problem)\n",
    "visualize_tsp_plt(problem, optimal_tour)"
   ]
  },
  {
   "cell_type": "markdown",
   "metadata": {},
   "source": [
    "## Computing Distance\n",
    "\n",
    "The library makes computing the distance of tours easy. There are also helper functions not used here found in `tsp.experiment.batch_solver` to compute more comprehensive statistics for whole sets of problems. It's not really worth it to use them for a single problem."
   ]
  },
  {
   "cell_type": "code",
   "execution_count": null,
   "metadata": {},
   "outputs": [],
   "source": [
    "human_score = problem.score(human_tour)\n",
    "optimal_score = problem.score(optimal_tour)\n",
    "error = (human_score / optimal_score) - 1.\n",
    "\n",
    "print(f'   Human:  {human_score:.2f}')\n",
    "print(f'Concorde:  {optimal_score:.2f}')\n",
    "print(f'   Error:  {error:.2f}')"
   ]
  }
 ],
 "metadata": {
  "kernelspec": {
   "display_name": "Python 3",
   "language": "python",
   "name": "python3"
  },
  "language_info": {
   "codemirror_mode": {
    "name": "ipython",
    "version": 3
   },
   "file_extension": ".py",
   "mimetype": "text/x-python",
   "name": "python",
   "nbconvert_exporter": "python",
   "pygments_lexer": "ipython3",
   "version": "3.13.2"
  },
  "orig_nbformat": 4
 },
 "nbformat": 4,
 "nbformat_minor": 2
}
